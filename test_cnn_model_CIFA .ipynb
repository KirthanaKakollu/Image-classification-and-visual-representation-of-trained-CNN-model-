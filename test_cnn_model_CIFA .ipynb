{
 "cells": [
  {
   "cell_type": "code",
   "execution_count": 1,
   "metadata": {},
   "outputs": [
    {
     "name": "stderr",
     "output_type": "stream",
     "text": [
      "Using TensorFlow backend.\n"
     ]
    }
   ],
   "source": [
    "from keras.models import Sequential\n",
    "from keras.layers import Dense, Conv2D, MaxPooling2D, Dropout, Flatten\n",
    "\n",
    "import pickle\n",
    "import numpy as np"
   ]
  },
  {
   "cell_type": "code",
   "execution_count": 2,
   "metadata": {},
   "outputs": [],
   "source": [
    "def createModel():\n",
    "    model = Sequential()\n",
    "    model.add(Conv2D(32, (3, 3), padding='same', activation='relu', input_shape=(32,32,3)))\n",
    "    model.add(Conv2D(32, (3, 3), activation='relu'))\n",
    "    model.add(MaxPooling2D(pool_size=(2, 2)))\n",
    "    model.add(Dropout(0.25))\n",
    " \n",
    "    model.add(Conv2D(64, (3, 3), padding='same', activation='relu'))\n",
    "    model.add(Conv2D(64, (3, 3), activation='relu'))\n",
    "    model.add(MaxPooling2D(pool_size=(2, 2)))\n",
    "    model.add(Dropout(0.25))\n",
    "\n",
    "    model.add(Conv2D(64, (3, 3), padding='same', activation='relu'))\n",
    "    model.add(Conv2D(64, (3, 3), activation='relu'))\n",
    "    model.add(MaxPooling2D(pool_size=(2, 2)))\n",
    "    model.add(Dropout(0.25))\n",
    "    \n",
    "    model.add(Flatten())\n",
    "    model.add(Dense(512, activation='relu'))\n",
    "    model.add(Dropout(0.5))\n",
    "    model.add(Dense(10, activation='softmax'))\n",
    "     \n",
    "    return model"
   ]
  },
  {
   "cell_type": "code",
   "execution_count": 3,
   "metadata": {
    "scrolled": false
   },
   "outputs": [
    {
     "name": "stdout",
     "output_type": "stream",
     "text": [
      "_________________________________________________________________\n",
      "Layer (type)                 Output Shape              Param #   \n",
      "=================================================================\n",
      "conv2d_1 (Conv2D)            (None, 32, 32, 32)        896       \n",
      "_________________________________________________________________\n",
      "conv2d_2 (Conv2D)            (None, 30, 30, 32)        9248      \n",
      "_________________________________________________________________\n",
      "max_pooling2d_1 (MaxPooling2 (None, 15, 15, 32)        0         \n",
      "_________________________________________________________________\n",
      "dropout_1 (Dropout)          (None, 15, 15, 32)        0         \n",
      "_________________________________________________________________\n",
      "conv2d_3 (Conv2D)            (None, 15, 15, 64)        18496     \n",
      "_________________________________________________________________\n",
      "conv2d_4 (Conv2D)            (None, 13, 13, 64)        36928     \n",
      "_________________________________________________________________\n",
      "max_pooling2d_2 (MaxPooling2 (None, 6, 6, 64)          0         \n",
      "_________________________________________________________________\n",
      "dropout_2 (Dropout)          (None, 6, 6, 64)          0         \n",
      "_________________________________________________________________\n",
      "conv2d_5 (Conv2D)            (None, 6, 6, 64)          36928     \n",
      "_________________________________________________________________\n",
      "conv2d_6 (Conv2D)            (None, 4, 4, 64)          36928     \n",
      "_________________________________________________________________\n",
      "max_pooling2d_3 (MaxPooling2 (None, 2, 2, 64)          0         \n",
      "_________________________________________________________________\n",
      "dropout_3 (Dropout)          (None, 2, 2, 64)          0         \n",
      "_________________________________________________________________\n",
      "flatten_1 (Flatten)          (None, 256)               0         \n",
      "_________________________________________________________________\n",
      "dense_1 (Dense)              (None, 512)               131584    \n",
      "_________________________________________________________________\n",
      "dropout_4 (Dropout)          (None, 512)               0         \n",
      "_________________________________________________________________\n",
      "dense_2 (Dense)              (None, 10)                5130      \n",
      "=================================================================\n",
      "Total params: 276,138\n",
      "Trainable params: 276,138\n",
      "Non-trainable params: 0\n",
      "_________________________________________________________________\n"
     ]
    }
   ],
   "source": [
    "model = createModel()\n",
    "model.summary()"
   ]
  },
  {
   "cell_type": "code",
   "execution_count": 4,
   "metadata": {},
   "outputs": [],
   "source": [
    "def unpickle(file):\n",
    "    fo = open(file, 'rb')\n",
    "    data = pickle.load(fo, encoding='bytes')\n",
    "    fo.close()\n",
    "    encoded_data = {}\n",
    "    for i in data:\n",
    "        encoded_data[str(i, 'utf-8')] = data[i]\n",
    "    encoded_data['batch_label'] = str(encoded_data['batch_label'], 'utf-8')\n",
    "    encoded_data['filenames'] = [str(i, 'utf-8') for i in encoded_data['filenames']]\n",
    "    return encoded_data"
   ]
  },
  {
   "cell_type": "code",
   "execution_count": 5,
   "metadata": {},
   "outputs": [],
   "source": [
    "features = []\n",
    "output = []\n",
    "for j in range(5):\n",
    "    data = unpickle('cifar-10-batches-py/data_batch_'+ str(j+1))\n",
    "    x = data['data']\n",
    "    y = data['labels']\n",
    "    features.append(x)\n",
    "    output.append(y)\n",
    "\n",
    "data = unpickle('cifar-10-batches-py/test_batch')\n",
    "features.append(data['data'])\n",
    "output.append(data['labels'])"
   ]
  },
  {
   "cell_type": "code",
   "execution_count": 6,
   "metadata": {},
   "outputs": [],
   "source": [
    "x = np.concatenate(features)/np.float32(255)\n",
    "y = np.concatenate(output)\n",
    "x = np.dstack((x[:, :1024], x[:, 1024:2048], x[:, 2048:]))\n",
    "x = x.reshape((x.shape[0], 32, 32, 3))\n",
    "\n",
    "# normalize the data\n",
    "pixel_mean = np.mean(x[0:50000],axis=0)\n",
    "x -= pixel_mean"
   ]
  },
  {
   "cell_type": "code",
   "execution_count": 8,
   "metadata": {},
   "outputs": [],
   "source": [
    "new_y = np.zeros((y.size,10))\n",
    "for i in range(y.size):\n",
    "    new_y[i, y[i]] = 1"
   ]
  },
  {
   "cell_type": "code",
   "execution_count": 12,
   "metadata": {},
   "outputs": [],
   "source": [
    "X_train = x[0:20000,:,:,:]\n",
    "X_test = x[50000:,:,:,:]\n",
    "Y_train = new_y[0:20000]\n",
    "Y_test = new_y[50000:]"
   ]
  },
  {
   "cell_type": "code",
   "execution_count": 14,
   "metadata": {},
   "outputs": [
    {
     "name": "stdout",
     "output_type": "stream",
     "text": [
      "Train on 20000 samples, validate on 10000 samples\n",
      "Epoch 1/50\n",
      "20000/20000 [==============================] - 1006s 50ms/step - loss: 2.1310 - acc: 0.2035 - val_loss: 1.9916 - val_acc: 0.2938\n",
      "Epoch 2/50\n",
      "20000/20000 [==============================] - 766s 38ms/step - loss: 1.8938 - acc: 0.2974 - val_loss: 1.9173 - val_acc: 0.3053\n",
      "Epoch 3/50\n",
      "20000/20000 [==============================] - 769s 38ms/step - loss: 1.7306 - acc: 0.3629 - val_loss: 1.6410 - val_acc: 0.4061\n",
      "Epoch 4/50\n",
      "20000/20000 [==============================] - 982s 49ms/step - loss: 1.6007 - acc: 0.4142 - val_loss: 1.7707 - val_acc: 0.3767\n",
      "Epoch 5/50\n",
      "20000/20000 [==============================] - 667s 33ms/step - loss: 1.5146 - acc: 0.4459 - val_loss: 1.4658 - val_acc: 0.4781\n",
      "Epoch 6/50\n",
      "20000/20000 [==============================] - 671s 34ms/step - loss: 1.4398 - acc: 0.4754 - val_loss: 1.4009 - val_acc: 0.4834\n",
      "Epoch 7/50\n",
      "20000/20000 [==============================] - 672s 34ms/step - loss: 1.3745 - acc: 0.5048 - val_loss: 1.4028 - val_acc: 0.5007\n",
      "Epoch 8/50\n",
      "20000/20000 [==============================] - 678s 34ms/step - loss: 1.3075 - acc: 0.5272 - val_loss: 1.2972 - val_acc: 0.5299\n",
      "Epoch 9/50\n",
      "20000/20000 [==============================] - 664s 33ms/step - loss: 1.2505 - acc: 0.5510 - val_loss: 1.2254 - val_acc: 0.5600\n",
      "Epoch 10/50\n",
      "20000/20000 [==============================] - 666s 33ms/step - loss: 1.2129 - acc: 0.5697 - val_loss: 1.5875 - val_acc: 0.4679\n",
      "Epoch 11/50\n",
      "20000/20000 [==============================] - 665s 33ms/step - loss: 1.1776 - acc: 0.5765 - val_loss: 1.2088 - val_acc: 0.5809\n",
      "Epoch 12/50\n",
      "20000/20000 [==============================] - 664s 33ms/step - loss: 1.1367 - acc: 0.5954 - val_loss: 1.1058 - val_acc: 0.5989\n",
      "Epoch 13/50\n",
      "20000/20000 [==============================] - 663s 33ms/step - loss: 1.0872 - acc: 0.6158 - val_loss: 1.2723 - val_acc: 0.5403\n",
      "Epoch 14/50\n",
      "20000/20000 [==============================] - 661s 33ms/step - loss: 1.0505 - acc: 0.6268 - val_loss: 1.4008 - val_acc: 0.5467\n",
      "Epoch 15/50\n",
      "20000/20000 [==============================] - 660s 33ms/step - loss: 1.0195 - acc: 0.6380 - val_loss: 1.1181 - val_acc: 0.6151\n",
      "Epoch 16/50\n",
      "20000/20000 [==============================] - 660s 33ms/step - loss: 0.9916 - acc: 0.6512 - val_loss: 1.0275 - val_acc: 0.6358\n",
      "Epoch 17/50\n",
      "20000/20000 [==============================] - 664s 33ms/step - loss: 0.9616 - acc: 0.6596 - val_loss: 1.5098 - val_acc: 0.5207\n",
      "Epoch 18/50\n",
      "20000/20000 [==============================] - 660s 33ms/step - loss: 0.9278 - acc: 0.6742 - val_loss: 1.4772 - val_acc: 0.5465\n",
      "Epoch 19/50\n",
      "20000/20000 [==============================] - 651s 33ms/step - loss: 0.9188 - acc: 0.6768 - val_loss: 1.1430 - val_acc: 0.5944\n",
      "Epoch 20/50\n",
      "20000/20000 [==============================] - 647s 32ms/step - loss: 0.8849 - acc: 0.6903 - val_loss: 1.0055 - val_acc: 0.6570\n",
      "Epoch 21/50\n",
      "20000/20000 [==============================] - 756s 38ms/step - loss: 0.8632 - acc: 0.6971 - val_loss: 1.1167 - val_acc: 0.6205\n",
      "Epoch 22/50\n",
      "20000/20000 [==============================] - 1310s 65ms/step - loss: 0.8281 - acc: 0.7085 - val_loss: 1.0051 - val_acc: 0.6562\n",
      "Epoch 23/50\n",
      "20000/20000 [==============================] - 1695s 85ms/step - loss: 0.8112 - acc: 0.7150 - val_loss: 0.9466 - val_acc: 0.6608\n",
      "Epoch 24/50\n",
      "20000/20000 [==============================] - 698s 35ms/step - loss: 0.7902 - acc: 0.7198 - val_loss: 0.9564 - val_acc: 0.6813\n",
      "Epoch 25/50\n",
      "20000/20000 [==============================] - 2656s 133ms/step - loss: 0.7758 - acc: 0.7301 - val_loss: 0.9920 - val_acc: 0.6618\n",
      "Epoch 26/50\n",
      "20000/20000 [==============================] - 1144s 57ms/step - loss: 0.7441 - acc: 0.7394 - val_loss: 0.9659 - val_acc: 0.6728\n",
      "Epoch 27/50\n",
      "20000/20000 [==============================] - 644s 32ms/step - loss: 0.7287 - acc: 0.7419 - val_loss: 0.9764 - val_acc: 0.6682\n",
      "Epoch 28/50\n",
      "20000/20000 [==============================] - 644s 32ms/step - loss: 0.7078 - acc: 0.7505 - val_loss: 0.9144 - val_acc: 0.6941\n",
      "Epoch 29/50\n",
      "20000/20000 [==============================] - 642s 32ms/step - loss: 0.6916 - acc: 0.7520 - val_loss: 0.9758 - val_acc: 0.6650\n",
      "Epoch 30/50\n",
      "20000/20000 [==============================] - 643s 32ms/step - loss: 0.6878 - acc: 0.7598 - val_loss: 1.2773 - val_acc: 0.6209\n",
      "Epoch 31/50\n",
      "20000/20000 [==============================] - 643s 32ms/step - loss: 0.6699 - acc: 0.7648 - val_loss: 0.9492 - val_acc: 0.6894\n",
      "Epoch 32/50\n",
      "20000/20000 [==============================] - 643s 32ms/step - loss: 0.6523 - acc: 0.7686 - val_loss: 0.9220 - val_acc: 0.6947\n",
      "Epoch 33/50\n",
      "20000/20000 [==============================] - 643s 32ms/step - loss: 0.6348 - acc: 0.7735 - val_loss: 1.2054 - val_acc: 0.6477\n",
      "Epoch 34/50\n",
      "20000/20000 [==============================] - 643s 32ms/step - loss: 0.6287 - acc: 0.7799 - val_loss: 0.9532 - val_acc: 0.6909\n",
      "Epoch 35/50\n",
      "20000/20000 [==============================] - 643s 32ms/step - loss: 0.6089 - acc: 0.7849 - val_loss: 0.9515 - val_acc: 0.6921\n",
      "Epoch 36/50\n",
      "20000/20000 [==============================] - 643s 32ms/step - loss: 0.5920 - acc: 0.7905 - val_loss: 0.8908 - val_acc: 0.7075\n",
      "Epoch 37/50\n",
      "20000/20000 [==============================] - 643s 32ms/step - loss: 0.5837 - acc: 0.7943 - val_loss: 1.1280 - val_acc: 0.6559\n",
      "Epoch 38/50\n",
      "20000/20000 [==============================] - 643s 32ms/step - loss: 0.5679 - acc: 0.7966 - val_loss: 1.0941 - val_acc: 0.6744\n",
      "Epoch 39/50\n",
      "20000/20000 [==============================] - 642s 32ms/step - loss: 0.5602 - acc: 0.8018 - val_loss: 0.9222 - val_acc: 0.7040\n",
      "Epoch 40/50\n",
      "20000/20000 [==============================] - 644s 32ms/step - loss: 0.5545 - acc: 0.8043 - val_loss: 1.0061 - val_acc: 0.6818\n",
      "Epoch 41/50\n",
      "20000/20000 [==============================] - 645s 32ms/step - loss: 0.5337 - acc: 0.8102 - val_loss: 0.8840 - val_acc: 0.7156\n",
      "Epoch 42/50\n",
      "20000/20000 [==============================] - 645s 32ms/step - loss: 0.5219 - acc: 0.8148 - val_loss: 0.9311 - val_acc: 0.7207\n",
      "Epoch 43/50\n",
      "20000/20000 [==============================] - 644s 32ms/step - loss: 0.5302 - acc: 0.8121 - val_loss: 0.8628 - val_acc: 0.7256\n",
      "Epoch 44/50\n",
      "20000/20000 [==============================] - 645s 32ms/step - loss: 0.5090 - acc: 0.8179 - val_loss: 0.9393 - val_acc: 0.7189\n",
      "Epoch 45/50\n",
      "20000/20000 [==============================] - 2082s 104ms/step - loss: 0.5059 - acc: 0.8175 - val_loss: 1.0161 - val_acc: 0.7024\n",
      "Epoch 46/50\n",
      "20000/20000 [==============================] - 645s 32ms/step - loss: 0.4941 - acc: 0.8229 - val_loss: 0.8781 - val_acc: 0.7351\n",
      "Epoch 47/50\n",
      "20000/20000 [==============================] - 645s 32ms/step - loss: 0.4902 - acc: 0.8261 - val_loss: 0.9896 - val_acc: 0.7075\n",
      "Epoch 48/50\n",
      "20000/20000 [==============================] - 879s 44ms/step - loss: 0.4811 - acc: 0.8300 - val_loss: 1.2278 - val_acc: 0.6612\n",
      "Epoch 49/50\n",
      "20000/20000 [==============================] - 719s 36ms/step - loss: 0.4748 - acc: 0.8323 - val_loss: 0.8946 - val_acc: 0.7213\n",
      "Epoch 50/50\n",
      "20000/20000 [==============================] - 1371s 69ms/step - loss: 0.4552 - acc: 0.8369 - val_loss: 1.4845 - val_acc: 0.6507\n",
      "10000/10000 [==============================] - 100s 10ms/step\n"
     ]
    },
    {
     "data": {
      "text/plain": [
       "[1.4844548551559449, 0.6507]"
      ]
     },
     "execution_count": 14,
     "metadata": {},
     "output_type": "execute_result"
    }
   ],
   "source": [
    "model = createModel()\n",
    "model.compile(optimizer='rmsprop', loss='categorical_crossentropy', metrics=['accuracy'])\n",
    " \n",
    "history1 = model.fit(X_train, Y_train, batch_size=256, epochs=50, verbose=1, validation_data=(X_test, Y_test))\n",
    " \n",
    "model.evaluate(X_test, Y_test)"
   ]
  },
  {
   "cell_type": "code",
   "execution_count": 82,
   "metadata": {},
   "outputs": [],
   "source": [
    "actual_output = np.argmax(Y_test[:], axis=1)"
   ]
  },
  {
   "cell_type": "code",
   "execution_count": 83,
   "metadata": {},
   "outputs": [],
   "source": [
    "predicted_output = np.argmax(model.predict(X_test[:]), axis = 1)"
   ]
  },
  {
   "cell_type": "code",
   "execution_count": 84,
   "metadata": {},
   "outputs": [],
   "source": [
    "number_of_correct_prediction =  sum(actual_output == predicted_output)"
   ]
  },
  {
   "cell_type": "code",
   "execution_count": 85,
   "metadata": {},
   "outputs": [],
   "source": [
    "accuracy = number_of_correct_prediction/len(predicted_output)"
   ]
  },
  {
   "cell_type": "code",
   "execution_count": 88,
   "metadata": {},
   "outputs": [
    {
     "name": "stdout",
     "output_type": "stream",
     "text": [
      "accuracy =  65.07 %\n"
     ]
    }
   ],
   "source": [
    "print( 'accuracy = ', accuracy*100, \"%\")"
   ]
  },
  {
   "cell_type": "code",
   "execution_count": 89,
   "metadata": {},
   "outputs": [],
   "source": [
    "weights = model.get_weights()"
   ]
  },
  {
   "cell_type": "code",
   "execution_count": 107,
   "metadata": {},
   "outputs": [
    {
     "data": {
      "text/plain": [
       "16"
      ]
     },
     "execution_count": 107,
     "metadata": {},
     "output_type": "execute_result"
    }
   ],
   "source": [
    "len(weights)"
   ]
  },
  {
   "cell_type": "code",
   "execution_count": 109,
   "metadata": {},
   "outputs": [
    {
     "data": {
      "text/plain": [
       "(3, 3, 32)"
      ]
     },
     "execution_count": 109,
     "metadata": {},
     "output_type": "execute_result"
    }
   ],
   "source": [
    "weights[0][0].shape"
   ]
  },
  {
   "cell_type": "code",
   "execution_count": 110,
   "metadata": {},
   "outputs": [
    {
     "data": {
      "text/plain": [
       "(32, 32, 3)"
      ]
     },
     "execution_count": 110,
     "metadata": {},
     "output_type": "execute_result"
    }
   ],
   "source": [
    "img.shape"
   ]
  },
  {
   "cell_type": "code",
   "execution_count": null,
   "metadata": {},
   "outputs": [],
   "source": []
  },
  {
   "cell_type": "code",
   "execution_count": 90,
   "metadata": {},
   "outputs": [],
   "source": [
    "import matplotlib.pyplot as plt"
   ]
  },
  {
   "cell_type": "code",
   "execution_count": 172,
   "metadata": {},
   "outputs": [],
   "source": [
    "from keras import backend as K\n",
    "import time"
   ]
  },
  {
   "cell_type": "code",
   "execution_count": 114,
   "metadata": {},
   "outputs": [],
   "source": [
    "inp = model.input "
   ]
  },
  {
   "cell_type": "code",
   "execution_count": 115,
   "metadata": {},
   "outputs": [],
   "source": [
    "outputs = [layer.output for layer in model.layers]  "
   ]
  },
  {
   "cell_type": "code",
   "execution_count": 116,
   "metadata": {},
   "outputs": [],
   "source": [
    "functors = [K.function([inp, K.learning_phase()], [out]) for out in outputs] "
   ]
  },
  {
   "cell_type": "code",
   "execution_count": 273,
   "metadata": {},
   "outputs": [
    {
     "name": "stderr",
     "output_type": "stream",
     "text": [
      "Clipping input data to the valid range for imshow with RGB data ([0..1] for floats or [0..255] for integers).\n"
     ]
    },
    {
     "data": {
      "text/plain": [
       "<matplotlib.image.AxesImage at 0xb432e07f0>"
      ]
     },
     "execution_count": 273,
     "metadata": {},
     "output_type": "execute_result"
    },
    {
     "data": {
      "image/png": "[encoded data removed]",
      "text/plain": [
       "<Figure size 432x288 with 1 Axes>"
      ]
     },
     "metadata": {
      "needs_background": "light"
     },
     "output_type": "display_data"
    }
   ],
   "source": [
    "img = X_test[765]\n",
    "plt.imshow(img)"
   ]
  },
  {
   "cell_type": "code",
   "execution_count": 274,
   "metadata": {},
   "outputs": [],
   "source": [
    "t = np.expand_dims(img, axis=0)"
   ]
  },
  {
   "cell_type": "code",
   "execution_count": 275,
   "metadata": {},
   "outputs": [
    {
     "data": {
      "text/plain": [
       "(1, 32, 32, 3)"
      ]
     },
     "execution_count": 275,
     "metadata": {},
     "output_type": "execute_result"
    }
   ],
   "source": [
    "t.shape"
   ]
  },
  {
   "cell_type": "code",
   "execution_count": 276,
   "metadata": {},
   "outputs": [],
   "source": [
    "layer_outs = [func([t, 1.]) for func in functors]"
   ]
  },
  {
   "cell_type": "code",
   "execution_count": 277,
   "metadata": {},
   "outputs": [],
   "source": [
    "imgs = []"
   ]
  },
  {
   "cell_type": "code",
   "execution_count": 278,
   "metadata": {},
   "outputs": [],
   "source": [
    "for i in layer_outs[:-4]:\n",
    "    for j in i:\n",
    "        k = j[0].T\n",
    "        for im in k:\n",
    "#             plt.imshow(im)\n",
    "            imgs.append(im)"
   ]
  },
  {
   "cell_type": "code",
   "execution_count": 279,
   "metadata": {},
   "outputs": [
    {
     "data": {
      "text/plain": [
       "640"
      ]
     },
     "execution_count": 279,
     "metadata": {},
     "output_type": "execute_result"
    }
   ],
   "source": [
    "len(imgs)"
   ]
  },
  {
   "cell_type": "code",
   "execution_count": 280,
   "metadata": {},
   "outputs": [
    {
     "data": {
      "image/png": "[encoded data removed]",
      "text/plain": [
       "<Figure size 432x288 with 32 Axes>"
      ]
     },
     "metadata": {
      "needs_background": "light"
     },
     "output_type": "display_data"
    }
   ],
   "source": [
    "fig = plt.figure()\n",
    "\n",
    "for i in range(8):\n",
    "    for j in range(4):\n",
    "        plt.subplot2grid((8, 4), (i,j))\n",
    "        plt.imshow(imgs[i*4+j])\n",
    "        plt.axis('off')\n",
    "        plt.subplots_adjust(hspace=0.05, wspace=0.05, bottom=0.05, right=0.4, top=0.9)\n",
    "        "
   ]
  },
  {
   "cell_type": "code",
   "execution_count": 281,
   "metadata": {},
   "outputs": [
    {
     "data": {
      "image/png": "[encoded data removed]",
      "text/plain": [
       "<Figure size 432x288 with 64 Axes>"
      ]
     },
     "metadata": {
      "needs_background": "light"
     },
     "output_type": "display_data"
    }
   ],
   "source": [
    "fig = plt.figure()\n",
    "\n",
    "for i in range(8):\n",
    "    for j in range(8):\n",
    "        plt.subplot2grid((8, 8), (i,j))\n",
    "        plt.imshow(imgs[128+i*8+j])\n",
    "        plt.axis('off')\n",
    "        plt.subplots_adjust(hspace=0.05, wspace=0.05, bottom=0.05, right=0.5, top=0.6)"
   ]
  },
  {
   "cell_type": "code",
   "execution_count": 282,
   "metadata": {},
   "outputs": [
    {
     "data": {
      "image/png": "[encoded data removed]",
      "text/plain": [
       "<Figure size 432x288 with 64 Axes>"
      ]
     },
     "metadata": {
      "needs_background": "light"
     },
     "output_type": "display_data"
    }
   ],
   "source": [
    "fig = plt.figure()\n",
    "\n",
    "for i in range(8):\n",
    "    for j in range(8):\n",
    "        plt.subplot2grid((8, 8), (i,j))\n",
    "        plt.imshow(imgs[384+i*8+j])\n",
    "        plt.axis('off')\n",
    "        plt.subplots_adjust(hspace=0.05, wspace=0.05, bottom=0.05, right=0.5, top=0.6)"
   ]
  },
  {
   "cell_type": "code",
   "execution_count": 283,
   "metadata": {},
   "outputs": [
    {
     "data": {
      "image/png": "[encoded data removed]",
      "text/plain": [
       "<Figure size 432x288 with 64 Axes>"
      ]
     },
     "metadata": {
      "needs_background": "light"
     },
     "output_type": "display_data"
    }
   ],
   "source": [
    "fig = plt.figure()\n",
    "\n",
    "for i in range(8):\n",
    "    for j in range(8):\n",
    "        plt.subplot2grid((8, 8), (i,j))\n",
    "        plt.imshow(imgs[512+i*8+j])\n",
    "        plt.axis('off')\n",
    "        plt.subplots_adjust(hspace=0.05, wspace=0.05, bottom=0.05, right=0.5, top=0.6)"
   ]
  },
  {
   "cell_type": "code",
   "execution_count": null,
   "metadata": {},
   "outputs": [],
   "source": []
  }
 ],
 "metadata": {
  "kernelspec": {
   "display_name": "Python 3",
   "language": "python",
   "name": "python3"
  },
  "language_info": {
   "codemirror_mode": {
    "name": "ipython",
    "version": 3
   },
   "file_extension": ".py",
   "mimetype": "text/x-python",
   "name": "python",
   "nbconvert_exporter": "python",
   "pygments_lexer": "ipython3",
   "version": "3.5.6"
  }
 },
 "nbformat": 4,
 "nbformat_minor": 2
}
